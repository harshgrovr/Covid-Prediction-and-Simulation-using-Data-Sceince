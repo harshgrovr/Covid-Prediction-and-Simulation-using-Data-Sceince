{
 "cells": [
  {
   "cell_type": "code",
   "execution_count": 49,
   "metadata": {},
   "outputs": [
    {
     "data": {
      "text/plain": [
       "<module 'sys' (built-in)>"
      ]
     },
     "execution_count": 49,
     "metadata": {},
     "output_type": "execute_result"
    }
   ],
   "source": [
    "import subprocess\n",
    "import os\n",
    "\n",
    "import pandas as pd\n",
    "\n",
    "import requests\n",
    "from bs4 import BeautifulSoup\n",
    "\n",
    "import json\n",
    "\n",
    "\n",
    "\n",
    "pd.set_option('display.max_rows', 500)\n",
    "\n",
    "from importlib import reload\n",
    "import sys\n",
    "reload(sys)\n",
    "# sys.setdefaultencoding(\"utf-8\")"
   ]
  },
  {
   "cell_type": "markdown",
   "metadata": {},
   "source": [
    "![CRISP_DM](../reports/figures/CRISP_DM.png)"
   ]
  },
  {
   "cell_type": "markdown",
   "metadata": {},
   "source": [
    "# Data Understanding"
   ]
  },
  {
   "cell_type": "markdown",
   "metadata": {},
   "source": [
    "* RKI, webscrape (webscraping) https://www.rki.de/DE/Content/InfAZ/N/Neuartiges_Coronavirus/Fallzahlen.html\n",
    "* John Hopkins (GITHUB) https://github.com/CSSEGISandData/COVID-19.git\n",
    "* REST API services to retreive data https://npgeo-corona-npgeo-de.hub.arcgis.com/"
   ]
  },
  {
   "cell_type": "markdown",
   "metadata": {},
   "source": [
    "## GITHUB csv data\n",
    "\n",
    "git clone/pull https://github.com/CSSEGISandData/COVID-19.git"
   ]
  },
  {
   "cell_type": "code",
   "execution_count": 50,
   "metadata": {},
   "outputs": [
    {
     "name": "stdout",
     "output_type": "stream",
     "text": [
      "Error : b'From https://github.com/CSSEGISandData/COVID-19\\n * [new branch]      Idaho_Fix_For_09142020 -> origin/Idaho_Fix_For_09142020\\n'\n",
      "out : b'Already up-to-date.\\n'\n"
     ]
    }
   ],
   "source": [
    "\n",
    "git_pull = subprocess.Popen( \"/usr/bin/git pull\" , \n",
    "                     cwd = os.path.dirname( '../data/raw/COVID-19/' ), \n",
    "                     shell = True, \n",
    "                     stdout = subprocess.PIPE, \n",
    "                     stderr = subprocess.PIPE )\n",
    "(out, error) = git_pull.communicate()\n",
    "\n",
    "\n",
    "print(\"Error : \" + str(error)) \n",
    "print(\"out : \" + str(out))"
   ]
  },
  {
   "cell_type": "code",
   "execution_count": 51,
   "metadata": {},
   "outputs": [],
   "source": [
    "data_path='../data/raw/COVID-19/csse_covid_19_data/csse_covid_19_time_series/time_series_covid19_confirmed_global.csv'\n",
    "pd_raw=pd.read_csv(data_path)"
   ]
  },
  {
   "cell_type": "code",
   "execution_count": 52,
   "metadata": {
    "scrolled": true
   },
   "outputs": [
    {
     "data": {
      "text/html": [
       "<div>\n",
       "<style scoped>\n",
       "    .dataframe tbody tr th:only-of-type {\n",
       "        vertical-align: middle;\n",
       "    }\n",
       "\n",
       "    .dataframe tbody tr th {\n",
       "        vertical-align: top;\n",
       "    }\n",
       "\n",
       "    .dataframe thead th {\n",
       "        text-align: right;\n",
       "    }\n",
       "</style>\n",
       "<table border=\"1\" class=\"dataframe\">\n",
       "  <thead>\n",
       "    <tr style=\"text-align: right;\">\n",
       "      <th></th>\n",
       "      <th>Province/State</th>\n",
       "      <th>Country/Region</th>\n",
       "      <th>Lat</th>\n",
       "      <th>Long</th>\n",
       "      <th>1/22/20</th>\n",
       "      <th>1/23/20</th>\n",
       "      <th>1/24/20</th>\n",
       "      <th>1/25/20</th>\n",
       "      <th>1/26/20</th>\n",
       "      <th>1/27/20</th>\n",
       "      <th>...</th>\n",
       "      <th>9/5/20</th>\n",
       "      <th>9/6/20</th>\n",
       "      <th>9/7/20</th>\n",
       "      <th>9/8/20</th>\n",
       "      <th>9/9/20</th>\n",
       "      <th>9/10/20</th>\n",
       "      <th>9/11/20</th>\n",
       "      <th>9/12/20</th>\n",
       "      <th>9/13/20</th>\n",
       "      <th>9/14/20</th>\n",
       "    </tr>\n",
       "  </thead>\n",
       "  <tbody>\n",
       "    <tr>\n",
       "      <th>0</th>\n",
       "      <td>NaN</td>\n",
       "      <td>Afghanistan</td>\n",
       "      <td>33.93911</td>\n",
       "      <td>67.709953</td>\n",
       "      <td>0</td>\n",
       "      <td>0</td>\n",
       "      <td>0</td>\n",
       "      <td>0</td>\n",
       "      <td>0</td>\n",
       "      <td>0</td>\n",
       "      <td>...</td>\n",
       "      <td>38324</td>\n",
       "      <td>38398</td>\n",
       "      <td>38494</td>\n",
       "      <td>38520</td>\n",
       "      <td>38544</td>\n",
       "      <td>38572</td>\n",
       "      <td>38606</td>\n",
       "      <td>38641</td>\n",
       "      <td>38716</td>\n",
       "      <td>38772</td>\n",
       "    </tr>\n",
       "    <tr>\n",
       "      <th>1</th>\n",
       "      <td>NaN</td>\n",
       "      <td>Albania</td>\n",
       "      <td>41.15330</td>\n",
       "      <td>20.168300</td>\n",
       "      <td>0</td>\n",
       "      <td>0</td>\n",
       "      <td>0</td>\n",
       "      <td>0</td>\n",
       "      <td>0</td>\n",
       "      <td>0</td>\n",
       "      <td>...</td>\n",
       "      <td>10102</td>\n",
       "      <td>10255</td>\n",
       "      <td>10406</td>\n",
       "      <td>10553</td>\n",
       "      <td>10704</td>\n",
       "      <td>10860</td>\n",
       "      <td>11021</td>\n",
       "      <td>11185</td>\n",
       "      <td>11353</td>\n",
       "      <td>11520</td>\n",
       "    </tr>\n",
       "    <tr>\n",
       "      <th>2</th>\n",
       "      <td>NaN</td>\n",
       "      <td>Algeria</td>\n",
       "      <td>28.03390</td>\n",
       "      <td>1.659600</td>\n",
       "      <td>0</td>\n",
       "      <td>0</td>\n",
       "      <td>0</td>\n",
       "      <td>0</td>\n",
       "      <td>0</td>\n",
       "      <td>0</td>\n",
       "      <td>...</td>\n",
       "      <td>46071</td>\n",
       "      <td>46364</td>\n",
       "      <td>46653</td>\n",
       "      <td>46938</td>\n",
       "      <td>47216</td>\n",
       "      <td>47488</td>\n",
       "      <td>47752</td>\n",
       "      <td>48007</td>\n",
       "      <td>48254</td>\n",
       "      <td>48496</td>\n",
       "    </tr>\n",
       "    <tr>\n",
       "      <th>3</th>\n",
       "      <td>NaN</td>\n",
       "      <td>Andorra</td>\n",
       "      <td>42.50630</td>\n",
       "      <td>1.521800</td>\n",
       "      <td>0</td>\n",
       "      <td>0</td>\n",
       "      <td>0</td>\n",
       "      <td>0</td>\n",
       "      <td>0</td>\n",
       "      <td>0</td>\n",
       "      <td>...</td>\n",
       "      <td>1215</td>\n",
       "      <td>1215</td>\n",
       "      <td>1261</td>\n",
       "      <td>1261</td>\n",
       "      <td>1301</td>\n",
       "      <td>1301</td>\n",
       "      <td>1344</td>\n",
       "      <td>1344</td>\n",
       "      <td>1344</td>\n",
       "      <td>1438</td>\n",
       "    </tr>\n",
       "    <tr>\n",
       "      <th>4</th>\n",
       "      <td>NaN</td>\n",
       "      <td>Angola</td>\n",
       "      <td>-11.20270</td>\n",
       "      <td>17.873900</td>\n",
       "      <td>0</td>\n",
       "      <td>0</td>\n",
       "      <td>0</td>\n",
       "      <td>0</td>\n",
       "      <td>0</td>\n",
       "      <td>0</td>\n",
       "      <td>...</td>\n",
       "      <td>2935</td>\n",
       "      <td>2965</td>\n",
       "      <td>2981</td>\n",
       "      <td>3033</td>\n",
       "      <td>3092</td>\n",
       "      <td>3217</td>\n",
       "      <td>3279</td>\n",
       "      <td>3335</td>\n",
       "      <td>3388</td>\n",
       "      <td>3439</td>\n",
       "    </tr>\n",
       "  </tbody>\n",
       "</table>\n",
       "<p>5 rows × 241 columns</p>\n",
       "</div>"
      ],
      "text/plain": [
       "  Province/State Country/Region       Lat       Long  1/22/20  1/23/20  \\\n",
       "0            NaN    Afghanistan  33.93911  67.709953        0        0   \n",
       "1            NaN        Albania  41.15330  20.168300        0        0   \n",
       "2            NaN        Algeria  28.03390   1.659600        0        0   \n",
       "3            NaN        Andorra  42.50630   1.521800        0        0   \n",
       "4            NaN         Angola -11.20270  17.873900        0        0   \n",
       "\n",
       "   1/24/20  1/25/20  1/26/20  1/27/20  ...  9/5/20  9/6/20  9/7/20  9/8/20  \\\n",
       "0        0        0        0        0  ...   38324   38398   38494   38520   \n",
       "1        0        0        0        0  ...   10102   10255   10406   10553   \n",
       "2        0        0        0        0  ...   46071   46364   46653   46938   \n",
       "3        0        0        0        0  ...    1215    1215    1261    1261   \n",
       "4        0        0        0        0  ...    2935    2965    2981    3033   \n",
       "\n",
       "   9/9/20  9/10/20  9/11/20  9/12/20  9/13/20  9/14/20  \n",
       "0   38544    38572    38606    38641    38716    38772  \n",
       "1   10704    10860    11021    11185    11353    11520  \n",
       "2   47216    47488    47752    48007    48254    48496  \n",
       "3    1301     1301     1344     1344     1344     1438  \n",
       "4    3092     3217     3279     3335     3388     3439  \n",
       "\n",
       "[5 rows x 241 columns]"
      ]
     },
     "execution_count": 52,
     "metadata": {},
     "output_type": "execute_result"
    }
   ],
   "source": [
    "pd_raw.head()"
   ]
  },
  {
   "cell_type": "markdown",
   "metadata": {},
   "source": [
    "## Webscrapping"
   ]
  },
  {
   "cell_type": "code",
   "execution_count": 53,
   "metadata": {},
   "outputs": [],
   "source": [
    "page = requests.get(\"https://www.rki.de/DE/Content/InfAZ/N/Neuartiges_Coronavirus/Fallzahlen.html\")"
   ]
  },
  {
   "cell_type": "code",
   "execution_count": 54,
   "metadata": {},
   "outputs": [],
   "source": [
    "soup = BeautifulSoup(page.content, 'html.parser')"
   ]
  },
  {
   "cell_type": "code",
   "execution_count": 55,
   "metadata": {},
   "outputs": [],
   "source": [
    "html_table=soup.find('table') # find the table, attention this works if one table exists"
   ]
  },
  {
   "cell_type": "code",
   "execution_count": 56,
   "metadata": {},
   "outputs": [],
   "source": [
    "all_rows=html_table.find_all('tr')"
   ]
  },
  {
   "cell_type": "code",
   "execution_count": 57,
   "metadata": {},
   "outputs": [],
   "source": [
    "final_data_list=[]"
   ]
  },
  {
   "cell_type": "code",
   "execution_count": 58,
   "metadata": {},
   "outputs": [],
   "source": [
    "for pos,rows in enumerate(all_rows):\n",
    "   \n",
    "    col_list=[each_col.get_text(strip=True) for each_col in rows.find_all('td')] #td for data element\n",
    "    final_data_list.append(col_list)\n",
    "    "
   ]
  },
  {
   "cell_type": "code",
   "execution_count": 59,
   "metadata": {},
   "outputs": [],
   "source": [
    "pd_daily_status=pd.DataFrame(final_data_list).dropna().rename(columns={0:'state',\n",
    "                                                       1:'cases',\n",
    "                                                       2:'changes',\n",
    "                                                       3:'cases_per_100k',\n",
    "                                                       4:'fatal',\n",
    "                                                       5:'comment'})"
   ]
  },
  {
   "cell_type": "code",
   "execution_count": 60,
   "metadata": {},
   "outputs": [
    {
     "data": {
      "text/html": [
       "<div>\n",
       "<style scoped>\n",
       "    .dataframe tbody tr th:only-of-type {\n",
       "        vertical-align: middle;\n",
       "    }\n",
       "\n",
       "    .dataframe tbody tr th {\n",
       "        vertical-align: top;\n",
       "    }\n",
       "\n",
       "    .dataframe thead th {\n",
       "        text-align: right;\n",
       "    }\n",
       "</style>\n",
       "<table border=\"1\" class=\"dataframe\">\n",
       "  <thead>\n",
       "    <tr style=\"text-align: right;\">\n",
       "      <th></th>\n",
       "      <th>state</th>\n",
       "      <th>cases</th>\n",
       "      <th>changes</th>\n",
       "      <th>cases_per_100k</th>\n",
       "      <th>fatal</th>\n",
       "      <th>comment</th>\n",
       "    </tr>\n",
       "  </thead>\n",
       "  <tbody>\n",
       "    <tr>\n",
       "      <th>2</th>\n",
       "      <td>Baden-Württem­berg</td>\n",
       "      <td>45.323</td>\n",
       "      <td>+69</td>\n",
       "      <td>1.269</td>\n",
       "      <td>11,5</td>\n",
       "      <td>1.868</td>\n",
       "    </tr>\n",
       "    <tr>\n",
       "      <th>3</th>\n",
       "      <td>Bayern</td>\n",
       "      <td>62.401</td>\n",
       "      <td>+427</td>\n",
       "      <td>2.324</td>\n",
       "      <td>17,8</td>\n",
       "      <td>2.647</td>\n",
       "    </tr>\n",
       "    <tr>\n",
       "      <th>4</th>\n",
       "      <td>Berlin</td>\n",
       "      <td>12.354</td>\n",
       "      <td>+85</td>\n",
       "      <td>486</td>\n",
       "      <td>13,0</td>\n",
       "      <td>226</td>\n",
       "    </tr>\n",
       "    <tr>\n",
       "      <th>5</th>\n",
       "      <td>Branden­burg</td>\n",
       "      <td>4.016</td>\n",
       "      <td>+10</td>\n",
       "      <td>63</td>\n",
       "      <td>2,5</td>\n",
       "      <td>169</td>\n",
       "    </tr>\n",
       "    <tr>\n",
       "      <th>6</th>\n",
       "      <td>Bremen</td>\n",
       "      <td>2.137</td>\n",
       "      <td>+2</td>\n",
       "      <td>64</td>\n",
       "      <td>9,4</td>\n",
       "      <td>59</td>\n",
       "    </tr>\n",
       "  </tbody>\n",
       "</table>\n",
       "</div>"
      ],
      "text/plain": [
       "                state   cases changes cases_per_100k fatal comment\n",
       "2  Baden-Württem­berg  45.323     +69          1.269  11,5   1.868\n",
       "3              Bayern  62.401    +427          2.324  17,8   2.647\n",
       "4              Berlin  12.354     +85            486  13,0     226\n",
       "5        Branden­burg   4.016     +10             63   2,5     169\n",
       "6              Bremen   2.137      +2             64   9,4      59"
      ]
     },
     "execution_count": 60,
     "metadata": {},
     "output_type": "execute_result"
    }
   ],
   "source": [
    "pd_daily_status.head()"
   ]
  },
  {
   "cell_type": "markdown",
   "metadata": {},
   "source": [
    "## REST API calls"
   ]
  },
  {
   "cell_type": "code",
   "execution_count": 61,
   "metadata": {},
   "outputs": [],
   "source": [
    "## data request for Germany\n",
    "data=requests.get('https://services7.arcgis.com/mOBPykOjAyBO2ZKk/arcgis/rest/services/Coronaf%C3%A4lle_in_den_Bundesl%C3%A4ndern/FeatureServer/0/query?where=1%3D1&outFields=*&outSR=4326&f=json')"
   ]
  },
  {
   "cell_type": "code",
   "execution_count": 62,
   "metadata": {},
   "outputs": [],
   "source": [
    "json_object=json.loads(data.content) "
   ]
  },
  {
   "cell_type": "code",
   "execution_count": 63,
   "metadata": {},
   "outputs": [
    {
     "data": {
      "text/plain": [
       "dict"
      ]
     },
     "execution_count": 63,
     "metadata": {},
     "output_type": "execute_result"
    }
   ],
   "source": [
    "type(json_object)"
   ]
  },
  {
   "cell_type": "code",
   "execution_count": 64,
   "metadata": {},
   "outputs": [
    {
     "data": {
      "text/plain": [
       "dict_keys(['objectIdFieldName', 'uniqueIdField', 'globalIdFieldName', 'geometryProperties', 'serverGens', 'geometryType', 'spatialReference', 'fields', 'features'])"
      ]
     },
     "execution_count": 64,
     "metadata": {},
     "output_type": "execute_result"
    }
   ],
   "source": [
    "json_object.keys()"
   ]
  },
  {
   "cell_type": "code",
   "execution_count": 65,
   "metadata": {
    "scrolled": false
   },
   "outputs": [],
   "source": [
    "full_list=[]\n",
    "for pos,each_dict in enumerate (json_object['features'][:]):\n",
    "    full_list.append(each_dict['attributes'])\n",
    "    "
   ]
  },
  {
   "cell_type": "code",
   "execution_count": 66,
   "metadata": {},
   "outputs": [
    {
     "data": {
      "text/html": [
       "<div>\n",
       "<style scoped>\n",
       "    .dataframe tbody tr th:only-of-type {\n",
       "        vertical-align: middle;\n",
       "    }\n",
       "\n",
       "    .dataframe tbody tr th {\n",
       "        vertical-align: top;\n",
       "    }\n",
       "\n",
       "    .dataframe thead th {\n",
       "        text-align: right;\n",
       "    }\n",
       "</style>\n",
       "<table border=\"1\" class=\"dataframe\">\n",
       "  <thead>\n",
       "    <tr style=\"text-align: right;\">\n",
       "      <th></th>\n",
       "      <th>OBJECTID_1</th>\n",
       "      <th>LAN_ew_AGS</th>\n",
       "      <th>LAN_ew_GEN</th>\n",
       "      <th>LAN_ew_BEZ</th>\n",
       "      <th>LAN_ew_EWZ</th>\n",
       "      <th>OBJECTID</th>\n",
       "      <th>Fallzahl</th>\n",
       "      <th>Aktualisierung</th>\n",
       "      <th>AGS_TXT</th>\n",
       "      <th>GlobalID</th>\n",
       "      <th>faelle_100000_EW</th>\n",
       "      <th>Shape__Area</th>\n",
       "      <th>Shape__Length</th>\n",
       "      <th>Death</th>\n",
       "    </tr>\n",
       "  </thead>\n",
       "  <tbody>\n",
       "    <tr>\n",
       "      <th>0</th>\n",
       "      <td>1</td>\n",
       "      <td>01</td>\n",
       "      <td>Schleswig-Holstein</td>\n",
       "      <td>Land</td>\n",
       "      <td>2896712</td>\n",
       "      <td>15</td>\n",
       "      <td>4255</td>\n",
       "      <td>1600120800000</td>\n",
       "      <td>01</td>\n",
       "      <td>fc5ba936-c95c-432c-8a33-9eb2f30b660f</td>\n",
       "      <td>146.890682</td>\n",
       "      <td>4.573731e+10</td>\n",
       "      <td>2.881496e+06</td>\n",
       "      <td>161</td>\n",
       "    </tr>\n",
       "    <tr>\n",
       "      <th>1</th>\n",
       "      <td>2</td>\n",
       "      <td>02</td>\n",
       "      <td>Hamburg</td>\n",
       "      <td>Freie und Hansestadt</td>\n",
       "      <td>1841179</td>\n",
       "      <td>6</td>\n",
       "      <td>6846</td>\n",
       "      <td>1600120800000</td>\n",
       "      <td>02</td>\n",
       "      <td>0f3e860c-5181-4d3f-a421-1d51f50315ea</td>\n",
       "      <td>371.826965</td>\n",
       "      <td>2.089396e+09</td>\n",
       "      <td>4.188002e+05</td>\n",
       "      <td>268</td>\n",
       "    </tr>\n",
       "    <tr>\n",
       "      <th>2</th>\n",
       "      <td>3</td>\n",
       "      <td>03</td>\n",
       "      <td>Niedersachsen</td>\n",
       "      <td>Land</td>\n",
       "      <td>7982448</td>\n",
       "      <td>9</td>\n",
       "      <td>18023</td>\n",
       "      <td>1600120800000</td>\n",
       "      <td>03</td>\n",
       "      <td>3fd77024-c29b-4843-9be8-682ad48e60c9</td>\n",
       "      <td>225.782868</td>\n",
       "      <td>1.299836e+11</td>\n",
       "      <td>4.008988e+06</td>\n",
       "      <td>667</td>\n",
       "    </tr>\n",
       "    <tr>\n",
       "      <th>3</th>\n",
       "      <td>4</td>\n",
       "      <td>04</td>\n",
       "      <td>Bremen</td>\n",
       "      <td>Freie Hansestadt</td>\n",
       "      <td>682986</td>\n",
       "      <td>5</td>\n",
       "      <td>2137</td>\n",
       "      <td>1600120800000</td>\n",
       "      <td>04</td>\n",
       "      <td>4132268b-54de-4327-ac1e-760e915112f1</td>\n",
       "      <td>312.890747</td>\n",
       "      <td>1.119157e+09</td>\n",
       "      <td>3.357177e+05</td>\n",
       "      <td>59</td>\n",
       "    </tr>\n",
       "    <tr>\n",
       "      <th>4</th>\n",
       "      <td>5</td>\n",
       "      <td>05</td>\n",
       "      <td>Nordrhein-Westfalen</td>\n",
       "      <td>Land</td>\n",
       "      <td>17932651</td>\n",
       "      <td>10</td>\n",
       "      <td>62725</td>\n",
       "      <td>1600120800000</td>\n",
       "      <td>05</td>\n",
       "      <td>561d658f-3ee5-46e3-bc95-3528c6558ab9</td>\n",
       "      <td>349.780967</td>\n",
       "      <td>8.782936e+10</td>\n",
       "      <td>2.648673e+06</td>\n",
       "      <td>1834</td>\n",
       "    </tr>\n",
       "  </tbody>\n",
       "</table>\n",
       "</div>"
      ],
      "text/plain": [
       "   OBJECTID_1 LAN_ew_AGS           LAN_ew_GEN            LAN_ew_BEZ  \\\n",
       "0           1         01   Schleswig-Holstein                  Land   \n",
       "1           2         02              Hamburg  Freie und Hansestadt   \n",
       "2           3         03        Niedersachsen                  Land   \n",
       "3           4         04               Bremen      Freie Hansestadt   \n",
       "4           5         05  Nordrhein-Westfalen                  Land   \n",
       "\n",
       "   LAN_ew_EWZ  OBJECTID  Fallzahl  Aktualisierung AGS_TXT  \\\n",
       "0     2896712        15      4255   1600120800000      01   \n",
       "1     1841179         6      6846   1600120800000      02   \n",
       "2     7982448         9     18023   1600120800000      03   \n",
       "3      682986         5      2137   1600120800000      04   \n",
       "4    17932651        10     62725   1600120800000      05   \n",
       "\n",
       "                               GlobalID  faelle_100000_EW   Shape__Area  \\\n",
       "0  fc5ba936-c95c-432c-8a33-9eb2f30b660f        146.890682  4.573731e+10   \n",
       "1  0f3e860c-5181-4d3f-a421-1d51f50315ea        371.826965  2.089396e+09   \n",
       "2  3fd77024-c29b-4843-9be8-682ad48e60c9        225.782868  1.299836e+11   \n",
       "3  4132268b-54de-4327-ac1e-760e915112f1        312.890747  1.119157e+09   \n",
       "4  561d658f-3ee5-46e3-bc95-3528c6558ab9        349.780967  8.782936e+10   \n",
       "\n",
       "   Shape__Length  Death  \n",
       "0   2.881496e+06    161  \n",
       "1   4.188002e+05    268  \n",
       "2   4.008988e+06    667  \n",
       "3   3.357177e+05     59  \n",
       "4   2.648673e+06   1834  "
      ]
     },
     "execution_count": 66,
     "metadata": {},
     "output_type": "execute_result"
    }
   ],
   "source": [
    "pd_full_list=pd.DataFrame(full_list)\n",
    "pd_full_list.head()"
   ]
  },
  {
   "cell_type": "code",
   "execution_count": 67,
   "metadata": {},
   "outputs": [],
   "source": [
    "pd_full_list.to_csv('../data/raw/NPGEO/GER_state_data.csv',sep=';')"
   ]
  },
  {
   "cell_type": "code",
   "execution_count": 68,
   "metadata": {},
   "outputs": [
    {
     "data": {
      "text/plain": [
       "16"
      ]
     },
     "execution_count": 68,
     "metadata": {},
     "output_type": "execute_result"
    }
   ],
   "source": [
    "pd_full_list.shape[0]"
   ]
  },
  {
   "cell_type": "markdown",
   "metadata": {},
   "source": [
    "# API access via REST service, e.g. USA data \n",
    "\n",
    "example of a REST conform interface (attention registration mandatory)\n",
    "\n",
    "www.smartable.ai"
   ]
  },
  {
   "cell_type": "code",
   "execution_count": 70,
   "metadata": {},
   "outputs": [],
   "source": [
    "\n",
    "\n",
    "# US for full list\n",
    "headers = {\n",
    "    'Cache-Control': 'no-cache',\n",
    "    'Subscription-Key': '28ee4219700f48718be78b057beb7eb4',\n",
    "}\n",
    "\n",
    "response = requests.get('https://api.smartable.ai/coronavirus/stats/US', headers=headers)\n",
    "print(response)"
   ]
  },
  {
   "cell_type": "code",
   "execution_count": null,
   "metadata": {},
   "outputs": [],
   "source": [
    "\n",
    "US_dict=json.loads(response.content) # imports string\n",
    "with open('../data/raw/SMARTABLE/US_data.json', 'w') as outfile:\n",
    "    json.dump(US_dict, outfile,indent=2)"
   ]
  },
  {
   "cell_type": "code",
   "execution_count": null,
   "metadata": {},
   "outputs": [],
   "source": [
    "print(json.dumps(US_dict,indent=2)) #string dump"
   ]
  },
  {
   "cell_type": "markdown",
   "metadata": {},
   "source": [
    "# Individual States US"
   ]
  },
  {
   "cell_type": "code",
   "execution_count": null,
   "metadata": {},
   "outputs": [],
   "source": [
    "US_dict['stats']['breakdowns'][0]"
   ]
  },
  {
   "cell_type": "code",
   "execution_count": null,
   "metadata": {},
   "outputs": [],
   "source": [
    "full_list_US_country=[]\n",
    "for pos,each_dict in enumerate (US_dict['stats']['breakdowns'][:]):\n",
    "    flatten_dict=each_dict['location']\n",
    "    flatten_dict.update(dict(list(US_dict['stats']['breakdowns'][pos].items())[1: 7]) \n",
    "    )\n",
    "    full_list_US_country.append(flatten_dict)"
   ]
  },
  {
   "cell_type": "code",
   "execution_count": null,
   "metadata": {},
   "outputs": [],
   "source": [
    "pd.DataFrame(full_list_US_country).to_csv('../data/raw/SMARTABLE/full_list_US_country.csv',sep=';',index=False)"
   ]
  },
  {
   "cell_type": "code",
   "execution_count": null,
   "metadata": {},
   "outputs": [],
   "source": []
  }
 ],
 "metadata": {
  "kernelspec": {
   "display_name": "Python 3",
   "language": "python",
   "name": "python3"
  },
  "language_info": {
   "codemirror_mode": {
    "name": "ipython",
    "version": 3
   },
   "file_extension": ".py",
   "mimetype": "text/x-python",
   "name": "python",
   "nbconvert_exporter": "python",
   "pygments_lexer": "ipython3",
   "version": "3.7.0"
  }
 },
 "nbformat": 4,
 "nbformat_minor": 2
}
